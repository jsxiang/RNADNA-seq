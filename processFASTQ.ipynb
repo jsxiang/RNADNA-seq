{
 "cells": [
  {
   "cell_type": "code",
   "execution_count": 42,
   "metadata": {
    "collapsed": false
   },
   "outputs": [],
   "source": [
    "import subprocess\n",
    "import sys\n",
    "import re\n",
    "# outputfileheader=sys.argv[1]\n",
    "\n",
    "# ls_output = subprocess.check_output('gunzip fastq/*.gz',shell=True)\n",
    "outputfileheader='RSVIII'\n",
    "dir='/Volumes/smolke-lab$/Joy/MFS/RSVIII/fastq'\n",
    "\n",
    "R1files = subprocess.check_output('ls '+dir+'/*unassembled.forward*',shell=True)\n",
    "R2files = subprocess.check_output('ls '+dir+'/*unassembled.reverse*',shell=True)\n",
    "\n",
    "Inumfiles=subprocess.check_output('ls '+dir+'/*I*',shell=True)\n",
    "Inumjoined=''.join(Inumfiles)\n",
    "Inums=Inumjoined.split('\\n')\n",
    "\n",
    "R1joined=''.join(R1files)\n",
    "R1list=R1joined.split('\\n')\n",
    "\n",
    "R2joined=''.join(R2files)\n",
    "R2list=R2joined.split('\\n')\n",
    "\n",
    "hasindexing=True\n",
    "\n",
    "pat=re.compile('(I)([0-9]+)')\n",
    "\n",
    "\n"
   ]
  },
  {
   "cell_type": "code",
   "execution_count": 72,
   "metadata": {
    "collapsed": false
   },
   "outputs": [
    {
     "ename": "KeyboardInterrupt",
     "evalue": "",
     "output_type": "error",
     "traceback": [
      "\u001b[0;31m--------------------------------------------\u001b[0m",
      "\u001b[0;31mKeyboardInterrupt\u001b[0mTraceback (most recent call last)",
      "\u001b[0;32m<ipython-input-72-31bf12522adb>\u001b[0m in \u001b[0;36m<module>\u001b[0;34m()\u001b[0m\n\u001b[1;32m     33\u001b[0m \u001b[0;34m\u001b[0m\u001b[0m\n\u001b[1;32m     34\u001b[0m     \u001b[0;32mfor\u001b[0m \u001b[0mx\u001b[0m \u001b[0;32min\u001b[0m \u001b[0mseqs\u001b[0m\u001b[0;34m:\u001b[0m\u001b[0;34m\u001b[0m\u001b[0m\n\u001b[0;32m---> 35\u001b[0;31m         \u001b[0ms\u001b[0m\u001b[0;34m,\u001b[0m\u001b[0mc\u001b[0m\u001b[0;34m=\u001b[0m\u001b[0mnp\u001b[0m\u001b[0;34m.\u001b[0m\u001b[0munique\u001b[0m\u001b[0;34m(\u001b[0m\u001b[0mx\u001b[0m\u001b[0;34m.\u001b[0m\u001b[0msplit\u001b[0m\u001b[0;34m(\u001b[0m\u001b[0;34m)\u001b[0m\u001b[0;34m,\u001b[0m\u001b[0mreturn_counts\u001b[0m\u001b[0;34m=\u001b[0m\u001b[0mTrue\u001b[0m\u001b[0;34m)\u001b[0m\u001b[0;34m\u001b[0m\u001b[0m\n\u001b[0m\u001b[1;32m     36\u001b[0m         \u001b[0mseqval\u001b[0m\u001b[0;34m.\u001b[0m\u001b[0mappend\u001b[0m\u001b[0;34m(\u001b[0m\u001b[0;34m[\u001b[0m\u001b[0ms\u001b[0m\u001b[0;34m]\u001b[0m\u001b[0;34m)\u001b[0m\u001b[0;34m\u001b[0m\u001b[0m\n\u001b[1;32m     37\u001b[0m         \u001b[0mseqcnt\u001b[0m\u001b[0;34m.\u001b[0m\u001b[0mappend\u001b[0m\u001b[0;34m(\u001b[0m\u001b[0;34m[\u001b[0m\u001b[0mc\u001b[0m\u001b[0;34m]\u001b[0m\u001b[0;34m)\u001b[0m\u001b[0;34m\u001b[0m\u001b[0m\n",
      "\u001b[0;32m/Users/jx/anaconda2/lib/python2.7/site-packages/numpy/lib/arraysetops.pyc\u001b[0m in \u001b[0;36munique\u001b[0;34m(ar, return_index, return_inverse, return_counts, axis)\u001b[0m\n\u001b[1;32m    208\u001b[0m     \u001b[0mar\u001b[0m \u001b[0;34m=\u001b[0m \u001b[0mnp\u001b[0m\u001b[0;34m.\u001b[0m\u001b[0masanyarray\u001b[0m\u001b[0;34m(\u001b[0m\u001b[0mar\u001b[0m\u001b[0;34m)\u001b[0m\u001b[0;34m\u001b[0m\u001b[0m\n\u001b[1;32m    209\u001b[0m     \u001b[0;32mif\u001b[0m \u001b[0maxis\u001b[0m \u001b[0;32mis\u001b[0m \u001b[0mNone\u001b[0m\u001b[0;34m:\u001b[0m\u001b[0;34m\u001b[0m\u001b[0m\n\u001b[0;32m--> 210\u001b[0;31m         \u001b[0;32mreturn\u001b[0m \u001b[0m_unique1d\u001b[0m\u001b[0;34m(\u001b[0m\u001b[0mar\u001b[0m\u001b[0;34m,\u001b[0m \u001b[0mreturn_index\u001b[0m\u001b[0;34m,\u001b[0m \u001b[0mreturn_inverse\u001b[0m\u001b[0;34m,\u001b[0m \u001b[0mreturn_counts\u001b[0m\u001b[0;34m)\u001b[0m\u001b[0;34m\u001b[0m\u001b[0m\n\u001b[0m\u001b[1;32m    211\u001b[0m     \u001b[0;32mif\u001b[0m \u001b[0;32mnot\u001b[0m \u001b[0;34m(\u001b[0m\u001b[0;34m-\u001b[0m\u001b[0mar\u001b[0m\u001b[0;34m.\u001b[0m\u001b[0mndim\u001b[0m \u001b[0;34m<=\u001b[0m \u001b[0maxis\u001b[0m \u001b[0;34m<\u001b[0m \u001b[0mar\u001b[0m\u001b[0;34m.\u001b[0m\u001b[0mndim\u001b[0m\u001b[0;34m)\u001b[0m\u001b[0;34m:\u001b[0m\u001b[0;34m\u001b[0m\u001b[0m\n\u001b[1;32m    212\u001b[0m         \u001b[0;32mraise\u001b[0m \u001b[0mValueError\u001b[0m\u001b[0;34m(\u001b[0m\u001b[0;34m'Invalid axis kwarg specified for unique'\u001b[0m\u001b[0;34m)\u001b[0m\u001b[0;34m\u001b[0m\u001b[0m\n",
      "\u001b[0;32m/Users/jx/anaconda2/lib/python2.7/site-packages/numpy/lib/arraysetops.pyc\u001b[0m in \u001b[0;36m_unique1d\u001b[0;34m(ar, return_index, return_inverse, return_counts)\u001b[0m\n\u001b[1;32m    275\u001b[0m         \u001b[0maux\u001b[0m \u001b[0;34m=\u001b[0m \u001b[0mar\u001b[0m\u001b[0;34m[\u001b[0m\u001b[0mperm\u001b[0m\u001b[0;34m]\u001b[0m\u001b[0;34m\u001b[0m\u001b[0m\n\u001b[1;32m    276\u001b[0m     \u001b[0;32melse\u001b[0m\u001b[0;34m:\u001b[0m\u001b[0;34m\u001b[0m\u001b[0m\n\u001b[0;32m--> 277\u001b[0;31m         \u001b[0mar\u001b[0m\u001b[0;34m.\u001b[0m\u001b[0msort\u001b[0m\u001b[0;34m(\u001b[0m\u001b[0;34m)\u001b[0m\u001b[0;34m\u001b[0m\u001b[0m\n\u001b[0m\u001b[1;32m    278\u001b[0m         \u001b[0maux\u001b[0m \u001b[0;34m=\u001b[0m \u001b[0mar\u001b[0m\u001b[0;34m\u001b[0m\u001b[0m\n\u001b[1;32m    279\u001b[0m     \u001b[0mflag\u001b[0m \u001b[0;34m=\u001b[0m \u001b[0mnp\u001b[0m\u001b[0;34m.\u001b[0m\u001b[0mconcatenate\u001b[0m\u001b[0;34m(\u001b[0m\u001b[0;34m(\u001b[0m\u001b[0;34m[\u001b[0m\u001b[0mTrue\u001b[0m\u001b[0;34m]\u001b[0m\u001b[0;34m,\u001b[0m \u001b[0maux\u001b[0m\u001b[0;34m[\u001b[0m\u001b[0;36m1\u001b[0m\u001b[0;34m:\u001b[0m\u001b[0;34m]\u001b[0m \u001b[0;34m!=\u001b[0m \u001b[0maux\u001b[0m\u001b[0;34m[\u001b[0m\u001b[0;34m:\u001b[0m\u001b[0;34m-\u001b[0m\u001b[0;36m1\u001b[0m\u001b[0;34m]\u001b[0m\u001b[0;34m)\u001b[0m\u001b[0;34m)\u001b[0m\u001b[0;34m\u001b[0m\u001b[0m\n",
      "\u001b[0;31mKeyboardInterrupt\u001b[0m: "
     ]
    }
   ],
   "source": []
  },
  {
   "cell_type": "code",
   "execution_count": 46,
   "metadata": {
    "collapsed": false,
    "scrolled": true
   },
   "outputs": [
    {
     "name": "stdout",
     "output_type": "stream",
     "text": [
      "['/Volumes/smolke-lab$/Joy/MFS/RSVIII/fastq/RSVIII_I1.unassembled.forward.fastq', '/Volumes/smolke-lab$/Joy/MFS/RSVIII/fastq/RSVIII_I2.unassembled.forward.fastq', '/Volumes/smolke-lab$/Joy/MFS/RSVIII/fastq/RSVIII_I3.unassembled.forward.fastq', '/Volumes/smolke-lab$/Joy/MFS/RSVIII/fastq/RSVIII_I4.unassembled.forward.fastq', '/Volumes/smolke-lab$/Joy/MFS/RSVIII/fastq/RSVIII_I5.unassembled.forward.fastq', '/Volumes/smolke-lab$/Joy/MFS/RSVIII/fastq/RSVIII_I7.unassembled.forward.fastq', '/Volumes/smolke-lab$/Joy/MFS/RSVIII/fastq/RSVIII_I8.unassembled.forward.fastq', '/Volumes/smolke-lab$/Joy/MFS/RSVIII/fastq/RSVIII_I9.unassembled.forward.fastq', '/Volumes/smolke-lab$/Joy/MFS/RSVIII/fastq/RSVIII_Undet.unassembled.forward.fastq', '']\n",
      "['1' '2' '3' '4' '5' '7' '8' '9']\n"
     ]
    }
   ],
   "source": [
    "print R1list\n",
    "Inumlist=[]\n",
    "for i in range(len(Inums)):\n",
    "    m=re.search(pat,Inums[i])\n",
    "    if m:\n",
    "        Inumlist.append(m.group(2))\n",
    "        \n",
    "#         print Inum\n",
    "\n",
    "import numpy as np\n",
    "\n",
    "s,c=np.unique(Inumlist,return_counts=True)\n",
    "\n",
    "II=s;\n",
    "print s\n",
    "\n"
   ]
  },
  {
   "cell_type": "code",
   "execution_count": 44,
   "metadata": {
    "collapsed": false
   },
   "outputs": [
    {
     "ename": "KeyboardInterrupt",
     "evalue": "",
     "output_type": "error",
     "traceback": [
      "\u001b[0;31m---------------------------------------------------------------------------\u001b[0m",
      "\u001b[0;31mKeyboardInterrupt\u001b[0m                         Traceback (most recent call last)",
      "\u001b[0;32m<ipython-input-44-e03498f5eec3>\u001b[0m in \u001b[0;36m<module>\u001b[0;34m()\u001b[0m\n\u001b[1;32m     12\u001b[0m \u001b[0;34m\u001b[0m\u001b[0m\n\u001b[1;32m     13\u001b[0m \u001b[0msubprocess\u001b[0m\u001b[0;34m.\u001b[0m\u001b[0mcall\u001b[0m\u001b[0;34m(\u001b[0m\u001b[0;34m'chmod +x pearallfrompy.sh'\u001b[0m\u001b[0;34m,\u001b[0m\u001b[0mshell\u001b[0m\u001b[0;34m=\u001b[0m\u001b[0mTrue\u001b[0m\u001b[0;34m)\u001b[0m\u001b[0;34m\u001b[0m\u001b[0m\n\u001b[0;32m---> 14\u001b[0;31m \u001b[0msubprocess\u001b[0m\u001b[0;34m.\u001b[0m\u001b[0mcall\u001b[0m\u001b[0;34m(\u001b[0m\u001b[0;34m'./pearallfrompy.sh'\u001b[0m\u001b[0;34m,\u001b[0m\u001b[0mshell\u001b[0m\u001b[0;34m=\u001b[0m\u001b[0mTrue\u001b[0m\u001b[0;34m)\u001b[0m\u001b[0;34m\u001b[0m\u001b[0m\n\u001b[0m",
      "\u001b[0;32m/Users/jx/anaconda2/lib/python2.7/subprocess.pyc\u001b[0m in \u001b[0;36mcall\u001b[0;34m(*popenargs, **kwargs)\u001b[0m\n\u001b[1;32m    520\u001b[0m     \u001b[0mretcode\u001b[0m \u001b[0;34m=\u001b[0m \u001b[0mcall\u001b[0m\u001b[0;34m(\u001b[0m\u001b[0;34m[\u001b[0m\u001b[0;34m\"ls\"\u001b[0m\u001b[0;34m,\u001b[0m \u001b[0;34m\"-l\"\u001b[0m\u001b[0;34m]\u001b[0m\u001b[0;34m)\u001b[0m\u001b[0;34m\u001b[0m\u001b[0m\n\u001b[1;32m    521\u001b[0m     \"\"\"\n\u001b[0;32m--> 522\u001b[0;31m     \u001b[0;32mreturn\u001b[0m \u001b[0mPopen\u001b[0m\u001b[0;34m(\u001b[0m\u001b[0;34m*\u001b[0m\u001b[0mpopenargs\u001b[0m\u001b[0;34m,\u001b[0m \u001b[0;34m**\u001b[0m\u001b[0mkwargs\u001b[0m\u001b[0;34m)\u001b[0m\u001b[0;34m.\u001b[0m\u001b[0mwait\u001b[0m\u001b[0;34m(\u001b[0m\u001b[0;34m)\u001b[0m\u001b[0;34m\u001b[0m\u001b[0m\n\u001b[0m\u001b[1;32m    523\u001b[0m \u001b[0;34m\u001b[0m\u001b[0m\n\u001b[1;32m    524\u001b[0m \u001b[0;34m\u001b[0m\u001b[0m\n",
      "\u001b[0;32m/Users/jx/anaconda2/lib/python2.7/subprocess.pyc\u001b[0m in \u001b[0;36mwait\u001b[0;34m(self)\u001b[0m\n\u001b[1;32m   1382\u001b[0m             \u001b[0;32mwhile\u001b[0m \u001b[0mself\u001b[0m\u001b[0;34m.\u001b[0m\u001b[0mreturncode\u001b[0m \u001b[0;32mis\u001b[0m \u001b[0mNone\u001b[0m\u001b[0;34m:\u001b[0m\u001b[0;34m\u001b[0m\u001b[0m\n\u001b[1;32m   1383\u001b[0m                 \u001b[0;32mtry\u001b[0m\u001b[0;34m:\u001b[0m\u001b[0;34m\u001b[0m\u001b[0m\n\u001b[0;32m-> 1384\u001b[0;31m                     \u001b[0mpid\u001b[0m\u001b[0;34m,\u001b[0m \u001b[0msts\u001b[0m \u001b[0;34m=\u001b[0m \u001b[0m_eintr_retry_call\u001b[0m\u001b[0;34m(\u001b[0m\u001b[0mos\u001b[0m\u001b[0;34m.\u001b[0m\u001b[0mwaitpid\u001b[0m\u001b[0;34m,\u001b[0m \u001b[0mself\u001b[0m\u001b[0;34m.\u001b[0m\u001b[0mpid\u001b[0m\u001b[0;34m,\u001b[0m \u001b[0;36m0\u001b[0m\u001b[0;34m)\u001b[0m\u001b[0;34m\u001b[0m\u001b[0m\n\u001b[0m\u001b[1;32m   1385\u001b[0m                 \u001b[0;32mexcept\u001b[0m \u001b[0mOSError\u001b[0m \u001b[0;32mas\u001b[0m \u001b[0me\u001b[0m\u001b[0;34m:\u001b[0m\u001b[0;34m\u001b[0m\u001b[0m\n\u001b[1;32m   1386\u001b[0m                     \u001b[0;32mif\u001b[0m \u001b[0me\u001b[0m\u001b[0;34m.\u001b[0m\u001b[0merrno\u001b[0m \u001b[0;34m!=\u001b[0m \u001b[0merrno\u001b[0m\u001b[0;34m.\u001b[0m\u001b[0mECHILD\u001b[0m\u001b[0;34m:\u001b[0m\u001b[0;34m\u001b[0m\u001b[0m\n",
      "\u001b[0;32m/Users/jx/anaconda2/lib/python2.7/subprocess.pyc\u001b[0m in \u001b[0;36m_eintr_retry_call\u001b[0;34m(func, *args)\u001b[0m\n\u001b[1;32m    474\u001b[0m     \u001b[0;32mwhile\u001b[0m \u001b[0mTrue\u001b[0m\u001b[0;34m:\u001b[0m\u001b[0;34m\u001b[0m\u001b[0m\n\u001b[1;32m    475\u001b[0m         \u001b[0;32mtry\u001b[0m\u001b[0;34m:\u001b[0m\u001b[0;34m\u001b[0m\u001b[0m\n\u001b[0;32m--> 476\u001b[0;31m             \u001b[0;32mreturn\u001b[0m \u001b[0mfunc\u001b[0m\u001b[0;34m(\u001b[0m\u001b[0;34m*\u001b[0m\u001b[0margs\u001b[0m\u001b[0;34m)\u001b[0m\u001b[0;34m\u001b[0m\u001b[0m\n\u001b[0m\u001b[1;32m    477\u001b[0m         \u001b[0;32mexcept\u001b[0m \u001b[0;34m(\u001b[0m\u001b[0mOSError\u001b[0m\u001b[0;34m,\u001b[0m \u001b[0mIOError\u001b[0m\u001b[0;34m)\u001b[0m \u001b[0;32mas\u001b[0m \u001b[0me\u001b[0m\u001b[0;34m:\u001b[0m\u001b[0;34m\u001b[0m\u001b[0m\n\u001b[1;32m    478\u001b[0m             \u001b[0;32mif\u001b[0m \u001b[0me\u001b[0m\u001b[0;34m.\u001b[0m\u001b[0merrno\u001b[0m \u001b[0;34m==\u001b[0m \u001b[0merrno\u001b[0m\u001b[0;34m.\u001b[0m\u001b[0mEINTR\u001b[0m\u001b[0;34m:\u001b[0m\u001b[0;34m\u001b[0m\u001b[0m\n",
      "\u001b[0;31mKeyboardInterrupt\u001b[0m: "
     ]
    }
   ],
   "source": [
    "f=open('pearallfrompy.sh','a')\n",
    "\n",
    "if hasindexing:\n",
    "    for i in range(len(R1list)):\n",
    "        cmdstr= '~/Documents/Bioinformatics/PEAR/src/pear -f '+R1list[i]+' -r '+R2list[i]+' -o '+outputfileheader+'_I'+Inum+' > '+outputfileheader+'_I'+Inum+'_peared.log'\n",
    "        f.write(cmdstr+'\\n')\n",
    "    f.close()\n",
    "else:\n",
    "    cmdstr= '~/Documents/Bioinformatics/PEAR/src/pear -f '+R1list[0]+' -r '+R2list[0]+' -o '+outputfileheader+' > '+outputfileheader+'_peared.log'\n",
    "    f.write(cmdstr+'\\n')\n",
    "    f.close()\n",
    "\n",
    "subprocess.call('chmod +x pearallfrompy.sh',shell=True)\n",
    "subprocess.call('./pearallfrompy.sh',shell=True)\n"
   ]
  },
  {
   "cell_type": "code",
   "execution_count": 48,
   "metadata": {
    "collapsed": false
   },
   "outputs": [
    {
     "name": "stdout",
     "output_type": "stream",
     "text": [
      "paste -d \"-\" /Volumes/smolke-lab$/Joy/MFS/RSVIII/fastq/RSVIII_I1.unassembled.forward.fastq /Volumes/smolke-lab$/Joy/MFS/RSVIII/fastq/RSVIII_I1.unassembled.reverse.fastq > RSVIII_I1.unassembled.pasted.fastq\n",
      "paste -d \"-\" /Volumes/smolke-lab$/Joy/MFS/RSVIII/fastq/RSVIII_I2.unassembled.forward.fastq /Volumes/smolke-lab$/Joy/MFS/RSVIII/fastq/RSVIII_I2.unassembled.reverse.fastq > RSVIII_I2.unassembled.pasted.fastq\n",
      "paste -d \"-\" /Volumes/smolke-lab$/Joy/MFS/RSVIII/fastq/RSVIII_I3.unassembled.forward.fastq /Volumes/smolke-lab$/Joy/MFS/RSVIII/fastq/RSVIII_I3.unassembled.reverse.fastq > RSVIII_I3.unassembled.pasted.fastq\n",
      "paste -d \"-\" /Volumes/smolke-lab$/Joy/MFS/RSVIII/fastq/RSVIII_I4.unassembled.forward.fastq /Volumes/smolke-lab$/Joy/MFS/RSVIII/fastq/RSVIII_I4.unassembled.reverse.fastq > RSVIII_I4.unassembled.pasted.fastq\n",
      "paste -d \"-\" /Volumes/smolke-lab$/Joy/MFS/RSVIII/fastq/RSVIII_I5.unassembled.forward.fastq /Volumes/smolke-lab$/Joy/MFS/RSVIII/fastq/RSVIII_I5.unassembled.reverse.fastq > RSVIII_I5.unassembled.pasted.fastq\n",
      "paste -d \"-\" /Volumes/smolke-lab$/Joy/MFS/RSVIII/fastq/RSVIII_I7.unassembled.forward.fastq /Volumes/smolke-lab$/Joy/MFS/RSVIII/fastq/RSVIII_I7.unassembled.reverse.fastq > RSVIII_I7.unassembled.pasted.fastq\n",
      "paste -d \"-\" /Volumes/smolke-lab$/Joy/MFS/RSVIII/fastq/RSVIII_I8.unassembled.forward.fastq /Volumes/smolke-lab$/Joy/MFS/RSVIII/fastq/RSVIII_I8.unassembled.reverse.fastq > RSVIII_I8.unassembled.pasted.fastq\n",
      "paste -d \"-\" /Volumes/smolke-lab$/Joy/MFS/RSVIII/fastq/RSVIII_I9.unassembled.forward.fastq /Volumes/smolke-lab$/Joy/MFS/RSVIII/fastq/RSVIII_I9.unassembled.reverse.fastq > RSVIII_I9.unassembled.pasted.fastq\n",
      "1255.25566697\n"
     ]
    }
   ],
   "source": [
    "# this can take a very long time, if the files are big (>a few GB)\n",
    "import time\n",
    "start = time.time()\n",
    "\n",
    "f=open('pasteallfrompy.sh','a')\n",
    "\n",
    "for i in range(len(II)):\n",
    "    if hasindexing:\n",
    "        cmdstr='paste -d \"-\" '+R1list[i]+' '+R2list[i]+' > '+outputfileheader+'_I'+II[i]+'.unassembled.pasted.fastq'\n",
    "        print cmdstr\n",
    "\n",
    "    else:\n",
    "        cmdstr='paste -d \"-\" '+outputfileheader+'.unassembled.forward.fastq '+outputfileheader+'.unassembled.reverse.fastq > '+outputfileheader+'.unassembled.pasted.fastq'\n",
    "#         print cmdstr\n",
    "        \n",
    "    f.write(cmdstr+'\\n')\n",
    "        \n",
    "f.close()\n",
    "subprocess.call('chmod +x pasteallfrompy.sh',shell=True)\n",
    "subprocess.call('./pasteallfrompy.sh',shell=True)\n",
    "\n",
    "\n",
    "paste -d \"-\" ./RSVIIIfastq/RSVIII_I6.unassembled.forward.fastq ./RSVIIIfastq/RSVIII_I6.unassembled.reverse.fastq > RSVIII_I6.unassembled.pasted.fastq\n",
    "\n",
    "end = time.time()\n",
    "print(end - start)"
   ]
  },
  {
   "cell_type": "code",
   "execution_count": 49,
   "metadata": {
    "collapsed": false
   },
   "outputs": [
    {
     "name": "stdout",
     "output_type": "stream",
     "text": [
      "perl -n -e '/(^[A-Z]+)([A|C|G|T][A|C|G|T][A|C|G|T][A|C|G|T])(AAACAAACAAATTTGCCAACGTCTGGTCACGACC[A-Z][A-Z][A-Z][A-Z][A-Z][A-Z][A-Z][A-Z])([A-Z]+-?[A-Z]+)([A-Z][A-Z][A-Z]CCCTCGAAATCACGAGGGAGACGAGATAGGCGGAAAAAGAAAAATAAAAA)([A-Z]+)/ && print \"$1$2$3GTCACCGGATGTGCTTTCCGGTCTGATGAGTCCGTGAGGACGAAAC$5$6\\n\"' *I1.unassembled.pasted.fastq > RSVIII_I1_FARW.seq\n",
      "perl -n -e '/(^[A-Z]+)([A|C|G|T][A|C|G|T][A|C|G|T][A|C|G|T])(AAACAAACAAATTTGCCAACGTCTGGTCACGACC[A-Z][A-Z][A-Z][A-Z][A-Z][A-Z][A-Z][A-Z])([A-Z]+-?[A-Z]+)([A-Z][A-Z][A-Z]CCCTCGAAATCACGAGGGAGACGAGATAGGCGGAAAAAGAAAAATAAAAA)([A-Z]+)/ && print \"$1$2$3GTCACCGGATGTGCTTTCCGGTCTGATGAGTCCGTGAGGACGAAAC$5$6\\n\"' *I2.unassembled.pasted.fastq > RSVIII_I2_FARW.seq\n",
      "perl -n -e '/(^[A-Z]+)([A|C|G|T][A|C|G|T][A|C|G|T][A|C|G|T])(AAACAAACAAATTTGCCAACGTCTGGTCACGACC[A-Z][A-Z][A-Z][A-Z][A-Z][A-Z][A-Z][A-Z])([A-Z]+-?[A-Z]+)([A-Z][A-Z][A-Z]CCCTCGAAATCACGAGGGAGACGAGATAGGCGGAAAAAGAAAAATAAAAA)([A-Z]+)/ && print \"$1$2$3GTCACCGGATGTGCTTTCCGGTCTGATGAGTCCGTGAGGACGAAAC$5$6\\n\"' *I3.unassembled.pasted.fastq > RSVIII_I3_FARW.seq\n",
      "perl -n -e '/(^[A-Z]+)([A|C|G|T][A|C|G|T][A|C|G|T][A|C|G|T])(AAACAAACAAATTTGCCAACGTCTGGTCACGACC[A-Z][A-Z][A-Z][A-Z][A-Z][A-Z][A-Z][A-Z])([A-Z]+-?[A-Z]+)([A-Z][A-Z][A-Z]CCCTCGAAATCACGAGGGAGACGAGATAGGCGGAAAAAGAAAAATAAAAA)([A-Z]+)/ && print \"$1$2$3GTCACCGGATGTGCTTTCCGGTCTGATGAGTCCGTGAGGACGAAAC$5$6\\n\"' *I4.unassembled.pasted.fastq > RSVIII_I4_FARW.seq\n",
      "perl -n -e '/(^[A-Z]+)([A|C|G|T][A|C|G|T][A|C|G|T][A|C|G|T])(AAACAAACAAATTTGCCAACGTCTGGTCACGACC[A-Z][A-Z][A-Z][A-Z][A-Z][A-Z][A-Z][A-Z])([A-Z]+-?[A-Z]+)([A-Z][A-Z][A-Z]CCCTCGAAATCACGAGGGAGACGAGATAGGCGGAAAAAGAAAAATAAAAA)([A-Z]+)/ && print \"$1$2$3GTCACCGGATGTGCTTTCCGGTCTGATGAGTCCGTGAGGACGAAAC$5$6\\n\"' *I5.unassembled.pasted.fastq > RSVIII_I5_FARW.seq\n",
      "perl -n -e '/(^[A-Z]+)([A|C|G|T][A|C|G|T][A|C|G|T][A|C|G|T])(AAACAAACAAATTTGCCAACGTCTGGTCACGACC[A-Z][A-Z][A-Z][A-Z][A-Z][A-Z][A-Z][A-Z])([A-Z]+-?[A-Z]+)([A-Z][A-Z][A-Z]CCCTCGAAATCACGAGGGAGACGAGATAGGCGGAAAAAGAAAAATAAAAA)([A-Z]+)/ && print \"$1$2$3GTCACCGGATGTGCTTTCCGGTCTGATGAGTCCGTGAGGACGAAAC$5$6\\n\"' *I7.unassembled.pasted.fastq > RSVIII_I7_FARW.seq\n",
      "perl -n -e '/(^[A-Z]+)([A|C|G|T][A|C|G|T][A|C|G|T][A|C|G|T])(AAACAAACAAATTTGCCAACGTCTGGTCACGACC[A-Z][A-Z][A-Z][A-Z][A-Z][A-Z][A-Z][A-Z])([A-Z]+-?[A-Z]+)([A-Z][A-Z][A-Z]CCCTCGAAATCACGAGGGAGACGAGATAGGCGGAAAAAGAAAAATAAAAA)([A-Z]+)/ && print \"$1$2$3GTCACCGGATGTGCTTTCCGGTCTGATGAGTCCGTGAGGACGAAAC$5$6\\n\"' *I8.unassembled.pasted.fastq > RSVIII_I8_FARW.seq\n",
      "perl -n -e '/(^[A-Z]+)([A|C|G|T][A|C|G|T][A|C|G|T][A|C|G|T])(AAACAAACAAATTTGCCAACGTCTGGTCACGACC[A-Z][A-Z][A-Z][A-Z][A-Z][A-Z][A-Z][A-Z])([A-Z]+-?[A-Z]+)([A-Z][A-Z][A-Z]CCCTCGAAATCACGAGGGAGACGAGATAGGCGGAAAAAGAAAAATAAAAA)([A-Z]+)/ && print \"$1$2$3GTCACCGGATGTGCTTTCCGGTCTGATGAGTCCGTGAGGACGAAAC$5$6\\n\"' *I9.unassembled.pasted.fastq > RSVIII_I9_FARW.seq\n"
     ]
    }
   ],
   "source": [
    "# grep all the pasted files that contain the aptamer, and join them together\n",
    "\n",
    "for i in range(len(II)):\n",
    "    if hasindexing:\n",
    "        cmdstr1='perl -n -e \\''\n",
    "        cmdstr2='/(^[A-Z]+)([A|C|G|T][A|C|G|T][A|C|G|T][A|C|G|T])(AAACAAACAAATTTGCCAACGTCTGGTCACGACC[A-Z][A-Z][A-Z][A-Z][A-Z][A-Z][A-Z][A-Z])([A-Z]+-?[A-Z]+)([A-Z][A-Z][A-Z]CCCTCGAAATCACGAGGGAGACGAGATAGGCGGAAAAAGAAAAATAAAAA)([A-Z]+)/ && print \"$1$2$3GTCACCGGATGTGCTTTCCGGTCTGATGAGTCCGTGAGGACGAAAC$5$6\\\\n\"\\' ' \n",
    "        cmdstr3='*I'+II[i]+'.unassembled.pasted.fastq > '+outputfileheader+'_I'+II[i]+'_FARW.seq'\n",
    "        print cmdstr1+cmdstr2+cmdstr3\n",
    "        subprocess.call(cmdstr1+cmdstr2+cmdstr3,shell=True)\n",
    "\n",
    "\n",
    "    else:\n",
    "        cmdstr1='perl -n -e \\''\n",
    "        cmdstr2='/(^[A-Z]+)([A|C|G|T][A|C|G|T][A|C|G|T][A|C|G|T])(AAACAAACAAATTTGCCAACGTCTGGTCACGACC[A-Z][A-Z][A-Z][A-Z][A-Z][A-Z][A-Z][A-Z])([A-Z]+-?[A-Z]+)([A-Z][A-Z][A-Z]CCCTCGAAATCACGAGGGAGACGAGATAGGCGGAAAAAGAAAAATAAAAA)([A-Z]+)/ && print \"$1$2$3YGTCACCGGATGTGCTTTCCGGTCTGATGAGTCCGTGAGGACGAAAC$5$6\\\\n\"\\' ' \n",
    "        cmdstr3=outputfileheader+'.unassembled.pasted.fastq > '+outputfileheader+'_FARW.seq'\n",
    "#         print cmdstr\n",
    "        \n",
    "\n",
    "\n",
    "\n",
    "perl -n -e '/(^[A-Z]+)([A|C|G|T][A|C|G|T][A|C|G|T][A|C|G|T])(AAACAAACAAATTTGCCAACGTCTGGTCACGACC[A-Z][A-Z][A-Z][A-Z][A-Z][A-Z][A-Z][A-Z])([A-Z]+-?[A-Z]+)([A-Z][A-Z][A-Z]CCCTCGAAATCACGAGGGAGACGAGATAGGCGGAAAAAGAAAAATAAAAA)([A-Z]+)/ && print \"$1$2$3GTCACCGGATGTGCTTTCCGGTCTGATGAGTCCGTGAGGACGAAAC$5$6\\n\"' ./RSVIIIfastq/*I6.unassembled.pasted.fastq > RSVIII_I6_FARW.seq"
   ]
  },
  {
   "cell_type": "code",
   "execution_count": 6,
   "metadata": {
    "collapsed": false
   },
   "outputs": [
    {
     "data": {
      "text/plain": [
       "0"
      ]
     },
     "execution_count": 6,
     "metadata": {},
     "output_type": "execute_result"
    }
   ],
   "source": [
    "import subprocess\n",
    "import sys\n",
    "import re\n",
    "\n",
    "x=['[A|C|G|T]']*35\n",
    "N35=\"\".join(x)\n",
    "\n",
    "\n",
    "outputfileheader='RSVIIIa'\n",
    "\n",
    "# combine all read files into one file\n",
    "cmdstr1='egrep \\'^[A|C|T|G]?[A|C|T|G]?[A|C|T|G]?[A|C|T|G]?[A|C|T|G]?AAACAAACAAA[A|C|T|G]+GTCACCG('+N35+'[A|C|G|T]*)AAAAAGAAA[A|C|T|G]?[A|C|T|G]?[A|C|T|G]?[A|C|T|G]?[A|C|T|G]?[A|C|T|G]?[A|C|T|G]?$\\' ' \n",
    "cmdstr2=outputfileheader+'*.assembled.fastq > '+outputfileheader+'_FAseq.seq'\n",
    "subprocess.call(cmdstr1+cmdstr2,shell=True)\n",
    "\n"
   ]
  },
  {
   "cell_type": "code",
   "execution_count": 12,
   "metadata": {
    "collapsed": false
   },
   "outputs": [
    {
     "data": {
      "text/plain": [
       "0"
      ]
     },
     "execution_count": 12,
     "metadata": {},
     "output_type": "execute_result"
    }
   ],
   "source": [
    "# combine all un-paired read files and add into previous file\n",
    "# x=['[A|C|G|T]']*10\n",
    "# N10=\"\".join(x)\n",
    "\n",
    "\n",
    "# cmdstr1='egrep \\'AAACAAACAAA('+N10+'[A|C|G|T]*)(-)('+N10+'[A|C|G|T]*)AAAAAGAAAAATAAAAA\\' ' \n",
    "# cmdstr2=outputfileheader+'_cdG.seq >> '+outputfileheader+'_all.seq'\n",
    "# subprocess.call(cmdstr1+cmdstr2,shell=True)"
   ]
  },
  {
   "cell_type": "code",
   "execution_count": 9,
   "metadata": {
    "collapsed": false
   },
   "outputs": [
    {
     "name": "stdout",
     "output_type": "stream",
     "text": [
      "perl -n -e '/([A-Z]+GGATCC)([A|C|G|T][A|C|G|T][A|C|G|T][A|C|G|T][A|C|G|T]?[A|C|G|T]?)(AAACAAACAAA[A-Z]+-?[A-Z]+AAAAAGAAAAATAAAAA)([A|C|G|T]?[A|C|G|T]?[A|C|G|T]?[A|C|G|T]?[A|C|G|T]?[A|C|G|T]?)(GGTACC[A-Z]+)/ && print \"$1$3$5\\n\"' RSVIIIa*.assembled.fastq > RSVIIIa_SClibseqs.seq\n",
      "26.8882648945\n"
     ]
    }
   ],
   "source": [
    "# remove file name information and unique molecular IDs\n",
    "# for the pJX20-sTRSVctllib\n",
    "import time\n",
    "start = time.time()\n",
    "\n",
    "cmdstr1='perl -n -e \\''\n",
    "cmdstr2='/([A-Z]+GGATCC)([A|C|G|T][A|C|G|T][A|C|G|T][A|C|G|T][A|C|G|T]?[A|C|G|T]?)(AAACAAACAAA[A-Z]+-?[A-Z]+AAAAAGAAAAATAAAAA)([A|C|G|T]?[A|C|G|T]?[A|C|G|T]?[A|C|G|T]?[A|C|G|T]?[A|C|G|T]?)(GGTACC[A-Z]+)/ && print \"$1$3$5\\\\n\"\\' ' \n",
    "cmdstr3=outputfileheader+'*.assembled.fastq > '+outputfileheader+'_SClibseqs.seq'\n",
    "print cmdstr1+cmdstr2+cmdstr3\n",
    "subprocess.call(cmdstr1+cmdstr2+cmdstr3,shell=True)\n",
    "end = time.time()\n",
    "print(end - start)\n",
    "\n"
   ]
  },
  {
   "cell_type": "code",
   "execution_count": 8,
   "metadata": {
    "collapsed": false
   },
   "outputs": [
    {
     "name": "stdout",
     "output_type": "stream",
     "text": [
      "perl -n -e '/([A-Z]+GGATCC)([A|C|G|T][A|C|G|T][A|C|G|T][A|C|G|T])(AAACAAACAAA[A-Z]+-?[A-Z]+AAAAAGAAAAATAAAAA)([A|C|G|T]?[A|C|G|T]?[A|C|G|T]?[A|C|G|T]?)(GGTACC[A-Z]+)/ && print \"$1$3$5\\n\"' RSVII_cdG.seq >> RSVII_allseqs.seq\n",
      "258.202610016\n"
     ]
    }
   ],
   "source": [
    "start = time.time()\n",
    "cmdstr1='perl -n -e \\''\n",
    "\n",
    "cmdstr2='/([A-Z]+GGATCC)([A|C|G|T][A|C|G|T][A|C|G|T][A|C|G|T])(AAACAAACAAA[A-Z]+-?[A-Z]+AAAAAGAAAAATAAAAA)([A|C|G|T]?[A|C|G|T]?[A|C|G|T]?[A|C|G|T]?)(GGTACC[A-Z]+)/ && print \"$1$3$5\\\\n\"\\' ' \n",
    "cmdstr3=outputfileheader+'_cdG.seq >> '+outputfileheader+'_allseqs.seq'\n",
    "print cmdstr1+cmdstr2+cmdstr3\n",
    "subprocess.call(cmdstr1+cmdstr2+cmdstr3,shell=True)\n",
    "\n",
    "end = time.time()\n",
    "print(end - start)"
   ]
  },
  {
   "cell_type": "code",
   "execution_count": 10,
   "metadata": {
    "collapsed": false
   },
   "outputs": [
    {
     "ename": "OSError",
     "evalue": "[Errno 2] No such file or directory",
     "output_type": "error",
     "traceback": [
      "\u001b[0;31m---------------------------------------------------------------------------\u001b[0m",
      "\u001b[0;31mOSError\u001b[0m                                   Traceback (most recent call last)",
      "\u001b[0;32m<ipython-input-10-2a03429f3aed>\u001b[0m in \u001b[0;36m<module>\u001b[0;34m()\u001b[0m\n\u001b[1;32m      1\u001b[0m \u001b[0;31m# assign barcodes\u001b[0m\u001b[0;34m\u001b[0m\u001b[0;34m\u001b[0m\u001b[0m\n\u001b[0;32m----> 2\u001b[0;31m \u001b[0msubprocess\u001b[0m\u001b[0;34m.\u001b[0m\u001b[0mcall\u001b[0m\u001b[0;34m(\u001b[0m\u001b[0;34m'chmod +x parseBarcodes.py'\u001b[0m\u001b[0;34m)\u001b[0m\u001b[0;34m\u001b[0m\u001b[0m\n\u001b[0m\u001b[1;32m      3\u001b[0m \u001b[0msubprocess\u001b[0m\u001b[0;34m.\u001b[0m\u001b[0mcall\u001b[0m\u001b[0;34m(\u001b[0m\u001b[0;34m'./parseBarcodes.py barcodes.txt '\u001b[0m\u001b[0;34m+\u001b[0m\u001b[0moutputfileheader\u001b[0m\u001b[0;34m+\u001b[0m\u001b[0;34m'_allseqs.seq '\u001b[0m\u001b[0;34m+\u001b[0m\u001b[0moutputfileheader\u001b[0m\u001b[0;34m)\u001b[0m\u001b[0;34m\u001b[0m\u001b[0m\n\u001b[1;32m      4\u001b[0m \u001b[0;34m\u001b[0m\u001b[0m\n\u001b[1;32m      5\u001b[0m \u001b[0;32mprint\u001b[0m \u001b[0;34m'./parseBarcodes.py barcodes.txt '\u001b[0m\u001b[0;34m+\u001b[0m\u001b[0moutputfileheader\u001b[0m\u001b[0;34m+\u001b[0m\u001b[0;34m'_allseqs.seq '\u001b[0m\u001b[0;34m+\u001b[0m\u001b[0moutputfileheader\u001b[0m\u001b[0;34m\u001b[0m\u001b[0m\n",
      "\u001b[0;32m/Users/jx/anaconda2/lib/python2.7/subprocess.pyc\u001b[0m in \u001b[0;36mcall\u001b[0;34m(*popenargs, **kwargs)\u001b[0m\n\u001b[1;32m    520\u001b[0m     \u001b[0mretcode\u001b[0m \u001b[0;34m=\u001b[0m \u001b[0mcall\u001b[0m\u001b[0;34m(\u001b[0m\u001b[0;34m[\u001b[0m\u001b[0;34m\"ls\"\u001b[0m\u001b[0;34m,\u001b[0m \u001b[0;34m\"-l\"\u001b[0m\u001b[0;34m]\u001b[0m\u001b[0;34m)\u001b[0m\u001b[0;34m\u001b[0m\u001b[0m\n\u001b[1;32m    521\u001b[0m     \"\"\"\n\u001b[0;32m--> 522\u001b[0;31m     \u001b[0;32mreturn\u001b[0m \u001b[0mPopen\u001b[0m\u001b[0;34m(\u001b[0m\u001b[0;34m*\u001b[0m\u001b[0mpopenargs\u001b[0m\u001b[0;34m,\u001b[0m \u001b[0;34m**\u001b[0m\u001b[0mkwargs\u001b[0m\u001b[0;34m)\u001b[0m\u001b[0;34m.\u001b[0m\u001b[0mwait\u001b[0m\u001b[0;34m(\u001b[0m\u001b[0;34m)\u001b[0m\u001b[0;34m\u001b[0m\u001b[0m\n\u001b[0m\u001b[1;32m    523\u001b[0m \u001b[0;34m\u001b[0m\u001b[0m\n\u001b[1;32m    524\u001b[0m \u001b[0;34m\u001b[0m\u001b[0m\n",
      "\u001b[0;32m/Users/jx/anaconda2/lib/python2.7/subprocess.pyc\u001b[0m in \u001b[0;36m__init__\u001b[0;34m(self, args, bufsize, executable, stdin, stdout, stderr, preexec_fn, close_fds, shell, cwd, env, universal_newlines, startupinfo, creationflags)\u001b[0m\n\u001b[1;32m    708\u001b[0m                                 \u001b[0mp2cread\u001b[0m\u001b[0;34m,\u001b[0m \u001b[0mp2cwrite\u001b[0m\u001b[0;34m,\u001b[0m\u001b[0;34m\u001b[0m\u001b[0m\n\u001b[1;32m    709\u001b[0m                                 \u001b[0mc2pread\u001b[0m\u001b[0;34m,\u001b[0m \u001b[0mc2pwrite\u001b[0m\u001b[0;34m,\u001b[0m\u001b[0;34m\u001b[0m\u001b[0m\n\u001b[0;32m--> 710\u001b[0;31m                                 errread, errwrite)\n\u001b[0m\u001b[1;32m    711\u001b[0m         \u001b[0;32mexcept\u001b[0m \u001b[0mException\u001b[0m\u001b[0;34m:\u001b[0m\u001b[0;34m\u001b[0m\u001b[0m\n\u001b[1;32m    712\u001b[0m             \u001b[0;31m# Preserve original exception in case os.close raises.\u001b[0m\u001b[0;34m\u001b[0m\u001b[0;34m\u001b[0m\u001b[0m\n",
      "\u001b[0;32m/Users/jx/anaconda2/lib/python2.7/subprocess.pyc\u001b[0m in \u001b[0;36m_execute_child\u001b[0;34m(self, args, executable, preexec_fn, close_fds, cwd, env, universal_newlines, startupinfo, creationflags, shell, to_close, p2cread, p2cwrite, c2pread, c2pwrite, errread, errwrite)\u001b[0m\n\u001b[1;32m   1333\u001b[0m                         \u001b[0;32mraise\u001b[0m\u001b[0;34m\u001b[0m\u001b[0m\n\u001b[1;32m   1334\u001b[0m                 \u001b[0mchild_exception\u001b[0m \u001b[0;34m=\u001b[0m \u001b[0mpickle\u001b[0m\u001b[0;34m.\u001b[0m\u001b[0mloads\u001b[0m\u001b[0;34m(\u001b[0m\u001b[0mdata\u001b[0m\u001b[0;34m)\u001b[0m\u001b[0;34m\u001b[0m\u001b[0m\n\u001b[0;32m-> 1335\u001b[0;31m                 \u001b[0;32mraise\u001b[0m \u001b[0mchild_exception\u001b[0m\u001b[0;34m\u001b[0m\u001b[0m\n\u001b[0m\u001b[1;32m   1336\u001b[0m \u001b[0;34m\u001b[0m\u001b[0m\n\u001b[1;32m   1337\u001b[0m \u001b[0;34m\u001b[0m\u001b[0m\n",
      "\u001b[0;31mOSError\u001b[0m: [Errno 2] No such file or directory"
     ]
    }
   ],
   "source": [
    "# assign barcodes\n",
    "subprocess.call('chmod +x parseBarcodes.py')\n",
    "subprocess.call('./parseBarcodes.py barcodes.txt '+outputfileheader+'_allseqs.seq '+outputfileheader)\n",
    "\n",
    "print './parseBarcodes.py barcodes.txt '+outputfileheader+'_allseqs.seq '+outputfileheader"
   ]
  },
  {
   "cell_type": "code",
   "execution_count": 69,
   "metadata": {
    "collapsed": false
   },
   "outputs": [
    {
     "name": "stdout",
     "output_type": "stream",
     "text": [
      "perl -n -e '/([A-Z]+GGATCC)([A|C|G|T][A|C|G|T][A|C|G|T][A|C|G|T])(AAACAAACAAA[A-Z]+AAAAAGAAAAATAAAAA)([A|C|G|T][A|C|G|T][A|C|G|T][A|C|G|T])(GGTACC[A-Z]+)/ && print \"$1$3$5\n",
      "\"' RSVIIIfastq/RSVIII_I9.seq >  RSVIIIfastq/RSVIII_I9_N4N4.seq\n",
      "perl -n -e '/([A-Z]+GGATCC)([A|C|G|T][A|C|G|T][A|C|G|T][A|C|G|T][A|C|G|T][A|C|G|T])(AAACAAACAAA[A-Z]+AAAAAGAAAAATAAAAA)([A|C|G|T][A|C|G|T][A|C|G|T][A|C|G|T][A|C|G|T][A|C|G|T])(GGTACC[A-Z]+)/ && print \"$1$3$5\n",
      "\"'  RSVIIIfastq/RSVIII_I9.seq > RSVIIIfastq/RSVIII_I9_N6N6.seq\n",
      "perl -n -e '/([A-Z]+GGATCC)([A|C|G|T][A|C|G|T][A|C|G|T][A|C|G|T])(AAACAAACAAA[A-Z]+AAAAAGAAAAATAAAAA)([A|C|G|T][A|C|G|T][A|C|G|T][A|C|G|T][A|C|G|T][A|C|G|T])(GGTACC[A-Z]+)/ && print \"$1$3$5\n",
      "\"'  RSVIIIfastq/RSVIII_I9.seq >  RSVIIIfastq/RSVIII_I9_N4N6.seq\n"
     ]
    },
    {
     "data": {
      "text/plain": [
       "0"
      ]
     },
     "execution_count": 69,
     "metadata": {},
     "output_type": "execute_result"
    }
   ],
   "source": [
    "num='9'\n",
    "\n",
    "cmdstr1='perl -n -e \\'/([A-Z]+GGATCC)([A|C|G|T][A|C|G|T][A|C|G|T][A|C|G|T])(AAACAAACAAA[A-Z]+AAAAAGAAAAATAAAAA)([A|C|G|T][A|C|G|T][A|C|G|T][A|C|G|T])(GGTACC[A-Z]+)/ && print \"$1$3$5\\n\"\\' RSVIIIfastq/RSVIII_I'+num+'.seq >  RSVIIIfastq/RSVIII_I'+num+'_N4N4.seq'\n",
    "cmdstr2='perl -n -e \\'/([A-Z]+GGATCC)([A|C|G|T][A|C|G|T][A|C|G|T][A|C|G|T][A|C|G|T][A|C|G|T])(AAACAAACAAA[A-Z]+AAAAAGAAAAATAAAAA)([A|C|G|T][A|C|G|T][A|C|G|T][A|C|G|T][A|C|G|T][A|C|G|T])(GGTACC[A-Z]+)/ && print \"$1$3$5\\n\"\\'  RSVIIIfastq/RSVIII_I'+num+'.seq > RSVIIIfastq/RSVIII_I'+num+'_N6N6.seq'\n",
    "cmdstr3='perl -n -e \\'/([A-Z]+GGATCC)([A|C|G|T][A|C|G|T][A|C|G|T][A|C|G|T])(AAACAAACAAA[A-Z]+AAAAAGAAAAATAAAAA)([A|C|G|T][A|C|G|T][A|C|G|T][A|C|G|T][A|C|G|T][A|C|G|T])(GGTACC[A-Z]+)/ && print \"$1$3$5\\n\"\\'  RSVIIIfastq/RSVIII_I'+num+'.seq >  RSVIIIfastq/RSVIII_I'+num+'_N4N6.seq'\n",
    "cmdstr4='cat RSVIIIfastq/RSVIII_I'+num+'_N4N4.seq RSVIIIfastq/RSVIII_I'+num+'_N6N6.seq RSVIIIfastq/RSVIII_I'+num+'_N4N6.seq > RSVIIIfastq/RSVIII_I'+num+'noUMI.seq'\n",
    "\n",
    "\n",
    "print cmdstr1\n",
    "print cmdstr2\n",
    "print cmdstr3\n",
    "\n",
    "subprocess.call(cmdstr1,shell=True)\n",
    "subprocess.call(cmdstr2,shell=True)\n",
    "subprocess.call(cmdstr3,shell=True)\n",
    "subprocess.call(cmdstr4,shell=True)\n"
   ]
  },
  {
   "cell_type": "code",
   "execution_count": 73,
   "metadata": {
    "collapsed": false
   },
   "outputs": [
    {
     "data": {
      "text/plain": [
       "0"
      ]
     },
     "execution_count": 73,
     "metadata": {},
     "output_type": "execute_result"
    }
   ],
   "source": [
    "num='9'\n",
    "cmdstr='\\./parseBarcodes.py barcodes_I'+num+'.txt RSVIIIfastq/RSVIII_I'+num+'noUMI.seq RSVIII_I'+num\n",
    "subprocess.call(cmdstr,shell=True)\n"
   ]
  },
  {
   "cell_type": "code",
   "execution_count": 80,
   "metadata": {
    "collapsed": false
   },
   "outputs": [
    {
     "name": "stdout",
     "output_type": "stream",
     "text": [
      "grep 'ATACCAGCATCGTCTTGATGCCCTTGGAAG' RSVIIIfastq/RSVIII_I1.seq | wc -l >> theocounts.txt\n",
      "grep 'ATACCAGCATCGTCTTGATGCCCTTGGAAG' RSVIIIfastq/RSVIII_I2.seq | wc -l >> theocounts.txt\n",
      "grep 'ATACCAGCATCGTCTTGATGCCCTTGGAAG' RSVIIIfastq/RSVIII_I3.seq | wc -l >> theocounts.txt\n",
      "grep 'ATACCAGCATCGTCTTGATGCCCTTGGAAG' RSVIIIfastq/RSVIII_I4.seq | wc -l >> theocounts.txt\n",
      "grep 'ATACCAGCATCGTCTTGATGCCCTTGGAAG' RSVIIIfastq/RSVIII_I5.seq | wc -l >> theocounts.txt\n",
      "grep 'ATACCAGCATCGTCTTGATGCCCTTGGAAG' RSVIIIfastq/RSVIII_I7.seq | wc -l >> theocounts.txt\n",
      "grep 'ATACCAGCATCGTCTTGATGCCCTTGGAAG' RSVIIIfastq/RSVIII_I8.seq | wc -l >> theocounts.txt\n",
      "grep 'ATACCAGCATCGTCTTGATGCCCTTGGAAG' RSVIIIfastq/RSVIII_I9.seq | wc -l >> theocounts.txt\n"
     ]
    }
   ],
   "source": [
    "for i in II:\n",
    "    cmdstr='grep \\'ATACCAGCATCGTCTTGATGCCCTTGGAAG\\' RSVIIIfastq/RSVIII_I'+str(i)+'.seq | wc -l >> theocounts.txt' \n",
    "    print cmdstr\n",
    "    subprocess.call(cmdstr,shell=True)"
   ]
  },
  {
   "cell_type": "code",
   "execution_count": null,
   "metadata": {
    "collapsed": true
   },
   "outputs": [],
   "source": []
  }
 ],
 "metadata": {
  "anaconda-cloud": {},
  "kernelspec": {
   "display_name": "Python [Root]",
   "language": "python",
   "name": "Python [Root]"
  },
  "language_info": {
   "codemirror_mode": {
    "name": "ipython",
    "version": 2
   },
   "file_extension": ".py",
   "mimetype": "text/x-python",
   "name": "python",
   "nbconvert_exporter": "python",
   "pygments_lexer": "ipython2",
   "version": "2.7.11"
  }
 },
 "nbformat": 4,
 "nbformat_minor": 0
}
